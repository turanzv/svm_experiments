{
 "cells": [
  {
   "cell_type": "markdown",
   "metadata": {},
   "source": [
    "## Preliminary preparations"
   ]
  },
  {
   "cell_type": "code",
   "execution_count": 1,
   "metadata": {},
   "outputs": [],
   "source": [
    "from datetime import datetime\n",
    "import os\n",
    "from pathlib import Path\n",
    "\n",
    "import pandas as pd\n",
    "import numpy as np\n",
    "import re\n",
    "import plotly.graph_objects as go\n",
    "import warnings\n",
    "\n",
    "warnings.simplefilter(action='ignore', category=pd.errors.SettingWithCopyWarning)\n",
    "pd.set_option('display.max_rows', 100)"
   ]
  },
  {
   "cell_type": "code",
   "execution_count": 2,
   "metadata": {},
   "outputs": [],
   "source": [
    "logfile = \"../logs/128G/transaction-only-128GB-2024-10-07-06-55-38-mainnet-beta.log\"\n",
    "csv = \"../logs/128G/tps_128gb.csv\""
   ]
  },
  {
   "cell_type": "markdown",
   "metadata": {},
   "source": [
    "## Preparing Data Source"
   ]
  },
  {
   "cell_type": "code",
   "execution_count": 3,
   "metadata": {},
   "outputs": [
    {
     "ename": "FileNotFoundError",
     "evalue": "[Errno 2] No such file or directory: '../logs/128G/transaction-only-128GB-2024-10-07-06-55-38-mainnet-beta.log'",
     "output_type": "error",
     "traceback": [
      "\u001b[0;31m---------------------------------------------------------------------------\u001b[0m",
      "\u001b[0;31mFileNotFoundError\u001b[0m                         Traceback (most recent call last)",
      "Cell \u001b[0;32mIn[3], line 3\u001b[0m\n\u001b[1;32m      1\u001b[0m data \u001b[38;5;241m=\u001b[39m []\n\u001b[0;32m----> 3\u001b[0m \u001b[38;5;28;01mwith\u001b[39;00m \u001b[38;5;28;43mopen\u001b[39;49m\u001b[43m(\u001b[49m\u001b[43mlogfile\u001b[49m\u001b[43m,\u001b[49m\u001b[43m \u001b[49m\u001b[38;5;124;43m'\u001b[39;49m\u001b[38;5;124;43mr\u001b[39;49m\u001b[38;5;124;43m'\u001b[39;49m\u001b[43m)\u001b[49m \u001b[38;5;28;01mas\u001b[39;00m file:\n\u001b[1;32m      4\u001b[0m     \u001b[38;5;28;01mfor\u001b[39;00m line \u001b[38;5;129;01min\u001b[39;00m file:\n\u001b[1;32m      5\u001b[0m         \u001b[38;5;28;01mif\u001b[39;00m \u001b[38;5;124m\"\u001b[39m\u001b[38;5;124mdatapoint: replay-slot-stats\u001b[39m\u001b[38;5;124m\"\u001b[39m \u001b[38;5;129;01min\u001b[39;00m line:\n",
      "File \u001b[0;32m~/solana/kisa_notebooks/.venv/lib/python3.13/site-packages/IPython/core/interactiveshell.py:324\u001b[0m, in \u001b[0;36m_modified_open\u001b[0;34m(file, *args, **kwargs)\u001b[0m\n\u001b[1;32m    317\u001b[0m \u001b[38;5;28;01mif\u001b[39;00m file \u001b[38;5;129;01min\u001b[39;00m {\u001b[38;5;241m0\u001b[39m, \u001b[38;5;241m1\u001b[39m, \u001b[38;5;241m2\u001b[39m}:\n\u001b[1;32m    318\u001b[0m     \u001b[38;5;28;01mraise\u001b[39;00m \u001b[38;5;167;01mValueError\u001b[39;00m(\n\u001b[1;32m    319\u001b[0m         \u001b[38;5;124mf\u001b[39m\u001b[38;5;124m\"\u001b[39m\u001b[38;5;124mIPython won\u001b[39m\u001b[38;5;124m'\u001b[39m\u001b[38;5;124mt let you open fd=\u001b[39m\u001b[38;5;132;01m{\u001b[39;00mfile\u001b[38;5;132;01m}\u001b[39;00m\u001b[38;5;124m by default \u001b[39m\u001b[38;5;124m\"\u001b[39m\n\u001b[1;32m    320\u001b[0m         \u001b[38;5;124m\"\u001b[39m\u001b[38;5;124mas it is likely to crash IPython. If you know what you are doing, \u001b[39m\u001b[38;5;124m\"\u001b[39m\n\u001b[1;32m    321\u001b[0m         \u001b[38;5;124m\"\u001b[39m\u001b[38;5;124myou can use builtins\u001b[39m\u001b[38;5;124m'\u001b[39m\u001b[38;5;124m open.\u001b[39m\u001b[38;5;124m\"\u001b[39m\n\u001b[1;32m    322\u001b[0m     )\n\u001b[0;32m--> 324\u001b[0m \u001b[38;5;28;01mreturn\u001b[39;00m \u001b[43mio_open\u001b[49m\u001b[43m(\u001b[49m\u001b[43mfile\u001b[49m\u001b[43m,\u001b[49m\u001b[43m \u001b[49m\u001b[38;5;241;43m*\u001b[39;49m\u001b[43margs\u001b[49m\u001b[43m,\u001b[49m\u001b[43m \u001b[49m\u001b[38;5;241;43m*\u001b[39;49m\u001b[38;5;241;43m*\u001b[39;49m\u001b[43mkwargs\u001b[49m\u001b[43m)\u001b[49m\n",
      "\u001b[0;31mFileNotFoundError\u001b[0m: [Errno 2] No such file or directory: '../logs/128G/transaction-only-128GB-2024-10-07-06-55-38-mainnet-beta.log'"
     ]
    }
   ],
   "source": [
    "data = []\n",
    "\n",
    "with open(logfile, 'r') as file:\n",
    "    for line in file:\n",
    "        if \"datapoint: replay-slot-stats\" in line:\n",
    "\n",
    "            timestamp_match = re.search(r\"\\[(.*?)Z\", line)\n",
    "            transactions_match = re.search(r\"total_transactions=(\\d+)i\", line)\n",
    "            execute_us_match = re.search(r\"execute_us=(\\d+)i\", line)\n",
    "            \n",
    "            if timestamp_match and transactions_match and execute_us_match:\n",
    "                timestamp = timestamp_match.group(1)\n",
    "                total_transactions_executed = int(transactions_match.group(1))\n",
    "                execute_us = int(execute_us_match.group(1))\n",
    "\n",
    "                data.append([timestamp, total_transactions_executed, execute_us])\n",
    "\n",
    "df = pd.DataFrame(data, columns=['timestamp', 'total_transactions_executed', 'execute_us'])\n",
    "df"
   ]
  },
  {
   "cell_type": "code",
   "execution_count": null,
   "metadata": {},
   "outputs": [],
   "source": [
    "def convert_to_unixtime(timestamp):\n",
    "    base_time, microseconds = timestamp.split('.')\n",
    "    microseconds = microseconds[:6]\n",
    "    dt = datetime.strptime(base_time, '%Y-%m-%dT%H:%M:%S')\n",
    "    return int(dt.timestamp() * 1_000_000) + int(microseconds)"
   ]
  },
  {
   "cell_type": "code",
   "execution_count": null,
   "metadata": {},
   "outputs": [],
   "source": [
    "df['end'] = df['timestamp'].apply(convert_to_unixtime)\n",
    "df['start'] = df['end'] - df['execute_us']\n",
    "df['tps'] = df['total_transactions_executed'] * 1000000 / df['execute_us']\n",
    "df"
   ]
  },
  {
   "cell_type": "code",
   "execution_count": null,
   "metadata": {},
   "outputs": [],
   "source": [
    "start_time = df.start.min() // 1000000 * 1000000\n",
    "end_time = (df.start.max() + 1000000) // 1000000 * 1000000\n",
    "time_step = 100000 # 10,000 microsends = .1 second\n",
    "\n",
    "time_series = pd.DataFrame({\n",
    "    't': np.arange(start_time, end_time + time_step, time_step)\n",
    "})\n",
    "\n",
    "def aggregate_tps(row, df):\n",
    "    mask = (df['start'] <= row['t']) & (df['end'] >= row['t'])\n",
    "    return df.loc[mask, 'tps'].sum()\n",
    "\n",
    "time_series['sum_tps'] = time_series.apply(aggregate_tps, axis=1, df=df)\n",
    "# window=10 means creating a moving average with the past 1 second's data. If you change it to 100, it would be the past 10 seconds\n",
    "time_series['moving_average'] = time_series['sum_tps'].rolling(window=50, min_periods=1).mean()\n",
    "time_series.to_csv(csv, index=False)\n"
   ]
  },
  {
   "cell_type": "code",
   "execution_count": null,
   "metadata": {},
   "outputs": [],
   "source": [
    "# Calculate the maximum TPS\n",
    "max_tps = time_series['sum_tps'].max()\n",
    "\n",
    "# Calculate the overall average TPS\n",
    "average_tps = time_series['sum_tps'].mean()\n",
    "\n",
    "# Print the results\n",
    "print(f\"Maximum TPS: {max_tps:,.2f}\")\n",
    "print(f\"Average TPS: {average_tps:,.2f}\")\n",
    "\n",
    "# Convert the max TPS x-coordinate to the corresponding time\n",
    "max_tps_time = time_series.loc[time_series['sum_tps'].idxmax(), 't']\n",
    "\n",
    "# Calculate the total duration spent with 0 TPS\n",
    "time_with_zero_tps = time_series[time_series['sum_tps'] == 0]\n",
    "total_time_zero_tps = len(time_with_zero_tps) * time_step / 1_000_000  # Convert microseconds to seconds\n",
    "total_time_zero_tps_hours = total_time_zero_tps / 3600  # Convert seconds to hours\n",
    "\n",
    "print(f\"Total time spent with 0 TPS: {total_time_zero_tps:.2f} seconds ({total_time_zero_tps_hours:.2f} hours)\")"
   ]
  },
  {
   "cell_type": "code",
   "execution_count": null,
   "metadata": {},
   "outputs": [],
   "source": [
    "# Display every 10 seconds\n",
    "filtered_time_series = time_series[time_series['t'] % 10000000 == 0]\n",
    "# from micro sec to sec\n",
    "filtered_time_series['t'] = np.floor(filtered_time_series['t'] / 1000000)\n",
    "\n",
    "filtered_time_series"
   ]
  },
  {
   "cell_type": "code",
   "execution_count": null,
   "metadata": {},
   "outputs": [],
   "source": [
    "# Calculate time elapsed in seconds from the start of the log\n",
    "start_time = filtered_time_series['t'].min()  # First timestamp\n",
    "filtered_time_series['elapsed_time'] = filtered_time_series['t'] - start_time\n",
    "filtered_time_series['elapsed_time_hours'] = filtered_time_series['elapsed_time'] / 3600\n",
    "\n",
    "# Convert elapsed time to HH:MM:SS format\n",
    "filtered_time_series['elapsed_time_formatted'] = filtered_time_series['elapsed_time'].apply(\n",
    "    lambda x: f\"{int(x // 3600):02}:{int((x % 3600) // 60):02}:{int(x % 60):02}\"\n",
    ")"
   ]
  },
  {
   "cell_type": "code",
   "execution_count": null,
   "metadata": {},
   "outputs": [],
   "source": [
    "# Determine the range for the x-axis\n",
    "x_min = filtered_time_series['elapsed_time_hours'].min()\n",
    "x_max = filtered_time_series['elapsed_time_hours'].max()\n",
    "\n",
    "fig = go.Figure()\n",
    "\n",
    "# fig.add_trace(go.Scatter(x=filtered_time_series['elapsed_time_hours'], y=filtered_time_series['sum_tps'], mode='markers', name='TPS', marker=dict(size=2)))\n",
    "fig.add_trace(go.Scatter(x=filtered_time_series['elapsed_time_hours'], y=filtered_time_series['moving_average'], mode='lines', name='TPS Moving Average(1sec)', line=dict(width=0.5)))\n",
    "\n",
    "# Add horizontal lines for max and average TPS\n",
    "fig.add_hline(y=average_tps, line_dash=\"dot\", line_color=\"green\", annotation=None)\n",
    "fig.add_hline(y=max_tps, line_dash=\"dash\", line_color=\"red\", annotation_text=f\"Max TPS: {max_tps:.2f}\", annotation_position=\"top right\")\n",
    "\n",
    "fig.update_layout(\n",
    "    showlegend=False,\n",
    "    title=None,\n",
    "    font=dict(\n",
    "        family=\"serif\",\n",
    "        size=20\n",
    "    ),\n",
    "    xaxis=dict(\n",
    "        title=None,\n",
    "        tickmode='linear',\n",
    "        dtick=1,\n",
    "        tickformat=\".1f\",\n",
    "        range=[x_min, x_max],\n",
    "        anchor=\"y\",\n",
    "        position=0\n",
    "    ),\n",
    "    yaxis=dict(\n",
    "        title=None,\n",
    "        range=[0, 15000],\n",
    "        anchor=\"x\",\n",
    "        position=0,\n",
    "        tickformat=\"~s\",\n",
    "    ),\n",
    "    margin=dict(l=20, r=20, t=20, b=20),\n",
    "    template=\"simple_white\",\n",
    "    width=800,\n",
    "    height=400\n",
    ")\n",
    "\n",
    "fig.write_image(\"128GB_Exec_TPS_0.pdf\")\n",
    "fig.show()\n"
   ]
  }
 ],
 "metadata": {
  "kernelspec": {
   "display_name": ".venv",
   "language": "python",
   "name": "python3"
  },
  "language_info": {
   "codemirror_mode": {
    "name": "ipython",
    "version": 3
   },
   "file_extension": ".py",
   "mimetype": "text/x-python",
   "name": "python",
   "nbconvert_exporter": "python",
   "pygments_lexer": "ipython3",
   "version": "3.13.2"
  }
 },
 "nbformat": 4,
 "nbformat_minor": 4
}
